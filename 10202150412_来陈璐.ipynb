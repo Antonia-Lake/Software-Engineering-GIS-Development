{
 "cells": [
  {
   "cell_type": "markdown",
   "source": [
    "# 实验1"
   ],
   "metadata": {
    "collapsed": false,
    "pycharm": {
     "name": "#%% md\n"
    }
   }
  },
  {
   "cell_type": "code",
   "execution_count": 1,
   "outputs": [
    {
     "name": "stdout",
     "output_type": "stream",
     "text": [
      "------以下是WGS84转Web墨卡托------\n",
      "x:13358338.89, y:3503549.84\n",
      "------以下是Web墨卡托转WGS84------\n",
      "经度:120.00, 纬度30.00\n"
     ]
    }
   ],
   "source": [
    "def Check(text, projection):\n",
    "    '这个函数用于检查输入的字符是否合法、输入的数据是否在范围内，如果不合法返回False，合法返回True'\n",
    "    inputNum = text.split(',')\n",
    "    if len(text.split(',')) != 2:\n",
    "        return False\n",
    "    for i in range(2):\n",
    "        try:\n",
    "            inputNum[i] = float(inputNum[i])\n",
    "        except:\n",
    "            return False\n",
    "    if projection == \"WGS84\":\n",
    "        if inputNum[0] < -180 or inputNum[0] > 180:\n",
    "            return False\n",
    "        elif inputNum[1] <= -90 or inputNum[1] >= 90:\n",
    "            return False\n",
    "    elif projection == \"WebMercator\":\n",
    "        if inputNum[0] < -20037508.34 or inputNum[0] > 20037508.34:\n",
    "            return False\n",
    "    return True\n",
    "\n",
    "\n",
    "print(\"------以下是WGS84转Web墨卡托------\")\n",
    "from math import *\n",
    "\n",
    "textWGS = input(\"输入经度和纬度坐标（之间用逗号分隔），输入完成后请按回车键：\")\n",
    "while Check(textWGS, \"WGS84\") == False:\n",
    "    textWGS = input(\"输入错误！请以正确的格式输入经度和纬度坐标（之间用逗号分隔）：\")\n",
    "lon = float(textWGS.split(',')[0])\n",
    "lat = float(textWGS.split(',')[1])\n",
    "r = 20037508.34\n",
    "x = lon / 180 * r\n",
    "#如果是负数\n",
    "y = log(tan(pi / 4 + lat * pi / 360)) * r / pi\n",
    "print(\"x:{:.2f}, y:{:.2f}\".format(x, y))\n",
    "\n",
    "print(\"------以下是Web墨卡托转WGS84------\")\n",
    "textWeb = input(\"输入x和y投影坐标（之间用逗号分隔），输入完成后请按回车键：\")\n",
    "while Check(textWeb, \"WebMercator\") == False:\n",
    "    textWeb = input(\"输入错误！请以正确的格式输入x和y投影坐标（之间用逗号分隔）：\")\n",
    "X = float(textWeb.split(',')[0])\n",
    "Y = float(textWeb.split(',')[1])\n",
    "r = 20037508.34\n",
    "Lon = X / r * 180\n",
    "Lat = atan(e ** (Y * pi / r)) * 360 / pi - 90\n",
    "print(\"经度:{:.2f}, 纬度{:.2f}\".format(Lon, Lat))"
   ],
   "metadata": {
    "collapsed": false,
    "pycharm": {
     "name": "#%%\n"
    }
   }
  },
  {
   "cell_type": "markdown",
   "source": [
    "# 实验2\n",
    "## 批处理下载华东师大闵行校区的地图切片数据（Esri卫星影像等切片服务数据），并生成world文件\n",
    "比例尺级别为15，范围为（Web墨卡托投影坐标）：Xmin=13518000，Xmax=13521000，Ymin=3636000，Ymax=3638100"
   ],
   "metadata": {
    "collapsed": false,
    "pycharm": {
     "name": "#%% md\n"
    }
   }
  },
  {
   "cell_type": "code",
   "execution_count": 3,
   "outputs": [],
   "source": [
    "from math import *\n",
    "import requests\n",
    "import os\n",
    "\n",
    "#地图范围\n",
    "Xmin = 13518000\n",
    "Xmax = 13521000\n",
    "Ymin = 3636000\n",
    "Ymax = 3638100\n",
    "#比例尺级别 z\n",
    "z = 15\n",
    "#第z级的像元尺寸pixelLen\n",
    "pixelLen = 40075014 / 2 ** 15\n",
    "#切片的数量 colCount*rowCount\n",
    "colCount = ceil((Xmax - Xmin) / pixelLen)\n",
    "rowCount = ceil((Ymax - Ymin) / pixelLen)\n",
    "\n",
    "#判断是否存在用于存放切片数据的文件夹,如果不存在则创建文件夹\n",
    "folder = \"./images\"\n",
    "if not os.path.exists(folder):\n",
    "    os.makedirs(folder)\n",
    "\n",
    "for i in range(colCount):\n",
    "    for j in range(rowCount):\n",
    "        #下载切片数据\n",
    "        row = int((20037507 - (Ymin + j * pixelLen)) / pixelLen)\n",
    "        col = int((Xmin + i * pixelLen - (-20037507)) / pixelLen)\n",
    "        url = f\"https://server.arcgisonline.com/ArcGIS/rest/services/World_Imagery/MapServer/tile/{z}/{row}/{col}.png\"\n",
    "        response = requests.get(url)\n",
    "        f = open(f\"./images/{z}_{row}_{col}.png\", \"wb\")\n",
    "        f.write(response.content)\n",
    "        f.close()\n",
    "        #生成world文件\n",
    "        LU_y = 20037507 - (pixelLen * row)\n",
    "        LU_x = (pixelLen * col) - 20037507\n",
    "        x_resolution = pixelLen / 256\n",
    "        y_resolution = pixelLen / 256\n",
    "        text = f\"{x_resolution}\\n0\\n0\\n-{y_resolution}\\n{LU_x}\\n{LU_y}\"\n",
    "        f = open(f\"./images/{z}_{row}_{col}.pngw\", \"w\")\n",
    "        f.write(text)\n",
    "        f.close()"
   ],
   "metadata": {
    "collapsed": false,
    "pycharm": {
     "name": "#%%\n"
    }
   }
  }
 ],
 "metadata": {
  "kernelspec": {
   "display_name": "Python 3",
   "language": "python",
   "name": "python3"
  },
  "language_info": {
   "codemirror_mode": {
    "name": "ipython",
    "version": 2
   },
   "file_extension": ".py",
   "mimetype": "text/x-python",
   "name": "python",
   "nbconvert_exporter": "python",
   "pygments_lexer": "ipython2",
   "version": "2.7.6"
  }
 },
 "nbformat": 4,
 "nbformat_minor": 0
}